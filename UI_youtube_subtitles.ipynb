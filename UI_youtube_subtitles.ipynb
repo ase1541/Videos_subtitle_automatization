{
 "cells": [
  {
   "cell_type": "markdown",
   "source": [
    "# Youtube video extractor with subtitles"
   ],
   "metadata": {
    "collapsed": false
   }
  },
  {
   "cell_type": "markdown",
   "source": [
    "This piece of code extracts videos from a Gsheet automatically and later on embeds them with subtitles. This notebook is the UI of the project, enabling to use the backend functions created in the youtube_videos_mother.py"
   ],
   "metadata": {
    "collapsed": false
   }
  },
  {
   "cell_type": "code",
   "execution_count": null,
   "outputs": [],
   "source": [
    "import shutil\n",
    "from youtube_videos_mother import extract_links, Video, download_video, download_subtitles, embed_subtitle"
   ],
   "metadata": {
    "collapsed": false
   }
  },
  {
   "cell_type": "markdown",
   "source": [
    "## Extract links from Gsheet"
   ],
   "metadata": {
    "collapsed": false
   }
  },
  {
   "cell_type": "code",
   "execution_count": null,
   "outputs": [],
   "source": [
    "links_df = extract_links()"
   ],
   "metadata": {
    "collapsed": false
   }
  },
  {
   "cell_type": "code",
   "execution_count": null,
   "outputs": [],
   "source": [
    "Video.initialize_video_instances(links_df)"
   ],
   "metadata": {
    "collapsed": false
   }
  },
  {
   "cell_type": "markdown",
   "source": [
    "## Download Video, Subtitles and embed them"
   ],
   "metadata": {
    "collapsed": false
   }
  },
  {
   "cell_type": "code",
   "execution_count": null,
   "outputs": [],
   "source": [
    "for video_object in Video.videos_list:\n",
    "    try:\n",
    "        download_video(video=video_object)\n",
    "        download_subtitles(video=video_object)\n",
    "        embed_subtitle(video=video_object)\n",
    "        video_object.successfully_downloaded = True\n",
    "    except Exception as error:\n",
    "        print(f\"Something failed: {error}\")"
   ],
   "metadata": {
    "collapsed": false
   }
  },
  {
   "cell_type": "markdown",
   "source": [
    "## Clean old archives and let only the final video be"
   ],
   "metadata": {
    "collapsed": false
   }
  },
  {
   "cell_type": "code",
   "execution_count": null,
   "metadata": {
    "collapsed": true
   },
   "outputs": [],
   "source": [
    "for video_object in Video.videos_list:\n",
    "    if video_object.successfully_downloaded:\n",
    "        print(video_object.successfully_downloaded)\n",
    "        shutil.rmtree(video_object.folder_video_path)\n",
    "        del video_object"
   ]
  },
  {
   "cell_type": "code",
   "execution_count": null,
   "outputs": [],
   "source": [],
   "metadata": {
    "collapsed": false
   }
  }
 ],
 "metadata": {
  "kernelspec": {
   "display_name": "Python 3",
   "language": "python",
   "name": "python3"
  },
  "language_info": {
   "codemirror_mode": {
    "name": "ipython",
    "version": 2
   },
   "file_extension": ".py",
   "mimetype": "text/x-python",
   "name": "python",
   "nbconvert_exporter": "python",
   "pygments_lexer": "ipython2",
   "version": "2.7.6"
  }
 },
 "nbformat": 4,
 "nbformat_minor": 0
}
